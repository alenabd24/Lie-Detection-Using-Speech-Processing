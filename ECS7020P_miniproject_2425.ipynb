{
 "cells": [
  {
   "cell_type": "markdown",
   "metadata": {
    "id": "91MsGMTna_P9"
   },
   "source": [
    "# ECS7020P mini-project submission\n",
    "\n",
    "\n",
    "## What is the problem?\n",
    "\n",
    "This year's mini-project considers the problem of predicting whether a narrated story is true or not. Specifically, you will build a machine learning model that takes as an input an audio recording of **30 seconds** of duration and predicts whether the story being narrated is **true or not**. \n",
    "\n",
    "\n",
    "## Which dataset will I use?\n",
    "\n",
    "A total of 100 samples consisting of a complete audio recording, a *Language* attribute and a *Story Type* attribute have been made available for you to build your machine learning model. The audio recordings can be downloaded from:\n",
    "\n",
    "https://github.com/MLEndDatasets/Deception/tree/main/MLEndDD_stories_small\n",
    "\n",
    "A CSV file recording the *Language* attribute and *Story Type* of each audio file can be downloaded from:\n",
    "\n",
    "https://github.com/MLEndDatasets/Deception/blob/main/MLEndDD_story_attributes_small.csv\n",
    "\n",
    "\n",
    "\n",
    "\n",
    "## What will I submit?\n",
    "\n",
    "Your submission will consist of **one single Jupyter notebook** that should include:\n",
    "\n",
    "*   **Text cells**, describing in your own words, rigorously and concisely your approach, each implemented step and the results that you obtain,\n",
    "*   **Code cells**, implementing each step,\n",
    "*   **Output cells**, i.e. the output from each code cell,\n",
    "\n",
    "Your notebook **should have the structure** outlined below. Please make sure that you **run all the cells** and that the **output cells are saved** before submission. \n",
    "\n",
    "Please save your notebook as:\n",
    "\n",
    "* ECS7020P_miniproject_2425.ipynb\n",
    "\n",
    "\n",
    "## How will my submission be evaluated?\n",
    "\n",
    "This submission is worth 16 marks. We will value:\n",
    "\n",
    "*   Conciseness in your writing.\n",
    "*   Correctness in your methodology.\n",
    "*   Correctness in your analysis and conclusions.\n",
    "*   Completeness.\n",
    "*   Originality and efforts to try something new.\n",
    "\n",
    "**The final performance of your solutions will not influence your grade**. We will grade your understanding. If you have an good understanding, you will be using the right methodology, selecting the right approaches, assessing correctly the quality of your solutions, sometimes acknowledging that despite your attempts your solutions are not good enough, and critically reflecting on your work to suggest what you could have done differently. \n",
    "\n",
    "Note that **the problem that we are intending to solve is very difficult**. Do not despair if you do not get good results, **difficulty is precisely what makes it interesting** and **worth trying**. \n",
    "\n",
    "## Show the world what you can do \n",
    "\n",
    "Why don't you use **GitHub** to manage your project? GitHub can be used as a presentation card that showcases what you have done and gives evidence of your data science skills, knowledge and experience. **Potential employers are always looking for this kind of evidence**. \n",
    "\n",
    "\n",
    "\n"
   ]
  },
  {
   "cell_type": "markdown",
   "metadata": {},
   "source": [
    "-------------------------------------- PLEASE USE THE STRUCTURE BELOW THIS LINE --------------------------------------------"
   ]
  },
  {
   "cell_type": "markdown",
   "metadata": {},
   "source": [
    "# [Your title goes here]"
   ]
  },
  {
   "cell_type": "markdown",
   "metadata": {
    "id": "ZaGn4ICrfqXZ"
   },
   "source": [
    "# 1. Author\n",
    "\n",
    "**Student Name**:  Alen Abdrakhmanov\n",
    "\n",
    "**Student ID**:  \n",
    "\n"
   ]
  },
  {
   "cell_type": "markdown",
   "metadata": {
    "id": "o38VQkcdKd6k"
   },
   "source": [
    "# 2. Problem formulation\n",
    "\n",
    "### **Problem Statement**\n",
    "\n",
    "Deception plays a crucial role in various domains such as criminal investigations and fraud prevention. Deception detection traditionally relies on invasive methods like polygraphs or behavioral analysis, which require direct interaction with the subject. This project adopts a **non-invasive approach** by analyzing audio recordings and leveraging machine learning to classify the recorded stories as truthful or deceptive using **acoustic features**, which will be carefully formulated and presented later.\n",
    "\n",
    "---\n",
    "\n",
    "### **Research Question**\n",
    "\n",
    "Can a machine learning model, trained on extracted audio features, accurately distinguish between truthful and deceptive speech in audio recordings, in various natural languages?\n",
    "\n",
    "---\n",
    "\n",
    "### **Objective**\n",
    "\n",
    "To design and implement a machine learning-based system that can classify audio recordings into **truthful** or **deceptive** categories using **non-invasive speech & signal processing techniques**.\n",
    "\n",
    "---\n",
    "\n",
    "### **Scope**\n",
    "\n",
    "#### **Data Scope**\n",
    "- **100 speech audio recordings** in multiple languages (e.g., Hindi, English, Bengali).\n",
    "- Labels indicating whether the speech is truthful or deceptive.\n",
    "\n",
    "#### **Feature Scope**\n",
    "- Extracted features such as:\n",
    "  - **Mel-Frequency Cepstral Coefficients (MFCCs)**\n",
    "  - **Pitch**\n",
    "  - **Jitter**\n",
    "  - **Intensity**\n",
    "- Focus on **acoustic and prosodic characteristics** to detect psycho-emotional cues related to deception.\n",
    "\n",
    "#### **Modeling Scope**\n",
    "- Use a machine learning classifier (**Support Vector Machine**) for binary classification.\n",
    "- Explore performance across various feature combinations and preprocessing methods.\n",
    "\n",
    "---\n",
    "\n",
    "### **Constraints**\n",
    "\n",
    "#### **Data Availability**\n",
    "- Limited labeled datasets for truthful and deceptive speech (**only 100 data points**).\n",
    "- Variability in audio quality and speaker diversity.\n",
    "\n",
    "#### **Model Performance**\n",
    "- Achieve a balance between **accuracy** and **generalization** across different speakers and languages.\n",
    "\n",
    "#### **Real-Time Applicability**\n",
    "- Potential need for efficient processing pipelines to classify speech in real-time.\n",
    "\n",
    "\n",
    "---\n"
   ]
  },
  {
   "cell_type": "markdown",
   "metadata": {
    "id": "bPTSuaB9L2jU"
   },
   "source": [
    "# 3. Methodology\n",
    "\n",
    "To mirror the machine learning pipeline, the report will be split into **training** and **validation** sections:\n",
    "\n",
    "\n",
    "## **Training Task**\n",
    "\n",
    "The training task focuses on building a **binary classification model** to distinguish between truthful and deceptive audio recordings. It involves the following steps:\n",
    "\n",
    "---\n",
    "\n",
    "### **Step 1: Data Preparation**\n",
    "1. Load the dataset of audio recordings with associated labels (`truthful_story` or `deceptive_story`).\n",
    "2. Perform an **initial split** of the dataset into:\n",
    "   - **Training set**: 80% of the data.\n",
    "   - **Test set**: 20% of the data (reserved for final evaluation after training and validation are complete).\n",
    "3. Ensure stratified sampling to balance:\n",
    "   - **Languages** (e.g., Hindi, English, Bengali).\n",
    "   - **Story Types** (`truthful_story`, `deceptive_story`).\n",
    "\n",
    "---\n",
    "\n",
    "### **Step 2: Data Preprocessing**\n",
    "1. **Noise Reduction:**\n",
    "   - Apply Short-Time Fourier Transform (STFT) thresholding to remove background noise.\n",
    "   \n",
    "2. **Segmentation and Windowing:**\n",
    "   - Divide each audio recording into short frames (e.g., 25 ms with 10 ms overlap).\n",
    "   \n",
    "3. **Feature Extraction:**\n",
    "   - Compute relevant features:\n",
    "     - **MFCCs**: Captures spectral properties of the speech.\n",
    "     - **Prosodic Features**: Includes pitch, jitter, shimmer, and intensity.\n",
    "     \n",
    "4. **Normalization:**\n",
    "   - Scale feature values to ensure consistency across all samples.\n",
    "\n",
    "---\n",
    "\n",
    "### **Step 3: Model Selection**\n",
    "1. Use **Support Vector Machines (SVM)** as the primary classifier for binary classification.\n",
    "2. Choose kernels based on task requirements:\n",
    "   - **Gaussian (RBF) Kernel**: Handles non-linear relationships.\n",
    "   - **Polynomial Kernel**: Captures complex interactions in features.\n",
    "\n",
    "---\n",
    "\n",
    "### **Step 4: Model Training**\n",
    "1. Train the model on the **training set** (80% of the dataset).\n",
    "2. Use initial default hyperparameters for the SVM (e.g., `C`, kernel parameters) to establish a baseline.\n",
    "\n",
    "---\n",
    "\n",
    "### **Step 5: Model Saving**\n",
    "1. Save the trained model after initial training for further use in validation and hyperparameter optimization.\n",
    "2. Prepare for validation to assess performance and fine-tune the model.\n",
    "\n",
    "---\n",
    "\n",
    "# **Validation Task**\n",
    "\n",
    "The validation task ensures the trained model generalises well to unseen data and optimizes its performance. It involves the following steps:\n",
    "\n",
    "---\n",
    "\n",
    "### **Step 1: Validation Data Preparation**\n",
    "1. Use a **subset of the training set** (e.g., 10% of the total dataset) as the **validation set**.\n",
    "2. Ensure the validation set is balanced with stratified sampling for `Language` and `Story_type`.\n",
    "\n",
    "---\n",
    "\n",
    "### **Step 2: Hyperparameter Tuning**\n",
    "1. Optimize the following SVM hyperparameters:\n",
    "   - **Regularization (`C`)**: Controls the trade-off between margin size and classification errors.\n",
    "   - **Kernel-specific parameters** (e.g., `gamma` for RBF kernel or `degree` for polynomial kernel).\n",
    "2. Use **Grid Search** or **Random Search**:\n",
    "   - Evaluate combinations of hyperparameters on the validation set.\n",
    "\n",
    "---\n",
    "\n",
    "### **Step 3: Cross-Validation**\n",
    "1. Apply **k-fold cross-validation** (e.g., 5-fold) within the training data to:\n",
    "   - Avoid overfitting or underfitting.\n",
    "   - Assess model consistency across different data splits.\n",
    "2. Evaluate the model using:\n",
    "   - Accuracy.\n",
    "   - F1-Score.\n",
    "   - AUC-ROC.\n",
    "\n",
    "---\n",
    "\n",
    "### **Step 4: Evaluation**\n",
    "1. Evaluate model performance based on a group of metrics:\n",
    "   - **Accuracy**: Overall correctness of predictions.\n",
    "   - **F1-Score**: Balances precision and recall, especially useful for imbalanced data.\n",
    "   - **Confusion Matrix**: Examines true/false positives and negatives.\n",
    "   - **AUC-ROC**: Analyzes the model’s ability to distinguish between classes.\n",
    "\n",
    "2. Use validation metrics to guide improvements:\n",
    "   - Adjust features if necessary (e.g., add delta MFCCs).\n",
    "   - Fine-tune hyperparameters for better generalization.\n"
   ]
  },
  {
   "cell_type": "code",
   "execution_count": null,
   "metadata": {},
   "outputs": [],
   "source": []
  },
  {
   "cell_type": "code",
   "execution_count": null,
   "metadata": {},
   "outputs": [],
   "source": []
  },
  {
   "cell_type": "code",
   "execution_count": null,
   "metadata": {},
   "outputs": [],
   "source": []
  },
  {
   "cell_type": "code",
   "execution_count": null,
   "metadata": {},
   "outputs": [],
   "source": []
  },
  {
   "cell_type": "code",
   "execution_count": null,
   "metadata": {},
   "outputs": [],
   "source": []
  },
  {
   "cell_type": "code",
   "execution_count": null,
   "metadata": {},
   "outputs": [],
   "source": []
  },
  {
   "cell_type": "code",
   "execution_count": null,
   "metadata": {},
   "outputs": [],
   "source": []
  },
  {
   "cell_type": "markdown",
   "metadata": {
    "id": "N3BwrtEdLDit"
   },
   "source": [
    "# 4 Implemented ML prediction pipelines\n",
    "\n",
    "Describe the ML prediction pipelines that you will explore. Clearly identify their input and output, stages and format of the intermediate data structures moving from one stage to the next. It's up to you to decide which stages to include in your pipeline. After providing an overview, describe in more detail each one of the stages that you have included in their corresponding subsections (i.e. 4.1 Transformation stage, 4.2 Model stage, 4.3 Ensemble stage).\n",
    "\n",
    "\n",
    "\n",
    "---\n",
    "\n",
    "## **Visualization of the Pipeline**\n",
    "1. **Input:**\n",
    "   - Raw audio files + labels.\n",
    "2. **Preprocessing:**\n",
    "   - Noise reduction → Segmentation → Windowing → Normalization.\n",
    "3. **Feature Extraction:**\n",
    "   - MFCCs + Prosodic features.\n",
    "4. **Feature Selection:**\n",
    "   - PCA or other reduction techniques.\n",
    "5. **Model Training:**\n",
    "   - Train and tune classifiers (SVM).\n",
    "6. **Evaluation:**\n",
    "   - Test with metrics like accuracy and F1-score.\n",
    "7. **Prediction:**\n",
    "   - Deploy for real-time classification."
   ]
  },
  {
   "cell_type": "code",
   "execution_count": 44,
   "metadata": {},
   "outputs": [
    {
     "data": {
      "image/png": "[encoded data removed]",
      "text/plain": [
       "<Figure size 1000x600 with 1 Axes>"
      ]
     },
     "metadata": {},
     "output_type": "display_data"
    }
   ],
   "source": [
    "import matplotlib.pyplot as plt\n",
    "from matplotlib.patches import FancyBboxPatch\n",
    "\n",
    "# Helper function to draw a block\n",
    "def draw_block(ax, x, y, text, width=2, height=1, fontsize=10):\n",
    "    box = FancyBboxPatch((x, y), width, height, boxstyle=\"round,pad=0.2\", ec=\"black\", fc=\"lightblue\", lw=1.5)\n",
    "    ax.add_patch(box)\n",
    "    ax.text(x + width / 2, y + height / 2, text, ha=\"center\", va=\"center\", fontsize=fontsize, wrap=True)\n",
    "\n",
    "# Initialize plot\n",
    "fig, ax = plt.subplots(figsize=(10, 6))\n",
    "ax.set_xlim(0, 12)\n",
    "ax.set_ylim(0, 10)\n",
    "ax.axis(\"off\")\n",
    "\n",
    "# Draw workflow blocks\n",
    "draw_block(ax, 1, 7, \"Data Loading\\n(.wav files)\")\n",
    "draw_block(ax, 4, 7, \"Signal Processing\\n(e.g., STFT, Filtering)\")\n",
    "draw_block(ax, 7, 7, \"Feature Extraction\\n(e.g., MFCCs, Spectrograms)\")\n",
    "draw_block(ax, 10, 7, \"Feature Selection\\nand Optimization\")\n",
    "\n",
    "draw_block(ax, 5, 4, \"Classifier\\n(e.g., SVM, Neural Networks)\")\n",
    "draw_block(ax, 5, 2, \"Decision\\n(Class Label)\")\n",
    "\n",
    "# Draw arrows\n",
    "arrowprops = dict(arrowstyle=\"->\", color=\"black\", lw=1.5)\n",
    "ax.annotate(\"\", xy=(3, 7.5), xytext=(2.8, 7.5), arrowprops=arrowprops)  # Data to Signal Processing\n",
    "ax.annotate(\"\", xy=(6, 7.5), xytext=(5.8, 7.5), arrowprops=arrowprops)  # Signal to Feature Extraction\n",
    "ax.annotate(\"\", xy=(9, 7.5), xytext=(8.8, 7.5), arrowprops=arrowprops)  # Feature Extraction to Selection\n",
    "ax.annotate(\"\", xy=(5.5, 7), xytext=(5.5, 5), arrowprops=arrowprops)  # Feature Selection to Classifier\n",
    "ax.annotate(\"\", xy=(5.5, 4), xytext=(5.5, 2.5), arrowprops=arrowprops)  # Classifier to Decision\n",
    "\n",
    "# Show diagram\n",
    "plt.title(\"ML Workflow Block Diagram\", fontsize=14, weight='bold')\n",
    "plt.show()\n"
   ]
  },
  {
   "cell_type": "code",
   "execution_count": null,
   "metadata": {},
   "outputs": [],
   "source": []
  },
  {
   "cell_type": "code",
   "execution_count": null,
   "metadata": {},
   "outputs": [],
   "source": []
  },
  {
   "cell_type": "code",
   "execution_count": null,
   "metadata": {},
   "outputs": [],
   "source": []
  },
  {
   "cell_type": "markdown",
   "metadata": {},
   "source": [
    "Loading and saving the 100 .wav files under their original names, as they appear in the github repository. We're only concerned with the first 30 seconds of each recording, so librosa library is used to process and trim the files."
   ]
  },
  {
   "cell_type": "code",
   "execution_count": 30,
   "metadata": {},
   "outputs": [
    {
     "name": "stdout",
     "output_type": "stream",
     "text": [
      "Processing 00001.wav...\n",
      "Loaded 00001.wav with 1323000 samples (Duration: 30.00 seconds)\n",
      "Processing 00002.wav...\n",
      "Loaded 00002.wav with 1323000 samples (Duration: 30.00 seconds)\n",
      "Processing 00003.wav...\n",
      "Loaded 00003.wav with 1323000 samples (Duration: 30.00 seconds)\n",
      "Processing 00004.wav...\n",
      "Loaded 00004.wav with 1323000 samples (Duration: 30.00 seconds)\n",
      "Processing 00005.wav...\n",
      "Loaded 00005.wav with 1323000 samples (Duration: 30.00 seconds)\n",
      "Processing 00006.wav...\n",
      "Loaded 00006.wav with 1323000 samples (Duration: 30.00 seconds)\n",
      "Processing 00007.wav...\n",
      "Loaded 00007.wav with 1323000 samples (Duration: 30.00 seconds)\n",
      "Processing 00008.wav...\n",
      "Loaded 00008.wav with 1323000 samples (Duration: 30.00 seconds)\n",
      "Processing 00009.wav...\n",
      "Loaded 00009.wav with 1323000 samples (Duration: 30.00 seconds)\n",
      "Processing 00010.wav...\n",
      "Loaded 00010.wav with 1323000 samples (Duration: 30.00 seconds)\n",
      "Processing 00011.wav...\n",
      "Loaded 00011.wav with 1323000 samples (Duration: 30.00 seconds)\n",
      "Processing 00012.wav...\n",
      "Loaded 00012.wav with 1323000 samples (Duration: 30.00 seconds)\n",
      "Processing 00013.wav...\n",
      "Loaded 00013.wav with 1323000 samples (Duration: 30.00 seconds)\n",
      "Processing 00014.wav...\n",
      "Loaded 00014.wav with 1323000 samples (Duration: 30.00 seconds)\n",
      "Processing 00015.wav...\n",
      "Loaded 00015.wav with 1323000 samples (Duration: 30.00 seconds)\n",
      "Processing 00016.wav...\n",
      "Loaded 00016.wav with 1323000 samples (Duration: 30.00 seconds)\n",
      "Processing 00017.wav...\n",
      "Loaded 00017.wav with 1323000 samples (Duration: 30.00 seconds)\n",
      "Processing 00018.wav...\n",
      "Loaded 00018.wav with 1323000 samples (Duration: 30.00 seconds)\n",
      "Processing 00019.wav...\n",
      "Loaded 00019.wav with 1323000 samples (Duration: 30.00 seconds)\n",
      "Processing 00020.wav...\n",
      "Loaded 00020.wav with 1323000 samples (Duration: 30.00 seconds)\n",
      "Processing 00021.wav...\n",
      "Loaded 00021.wav with 1323000 samples (Duration: 30.00 seconds)\n",
      "Processing 00022.wav...\n",
      "Loaded 00022.wav with 1323000 samples (Duration: 30.00 seconds)\n",
      "Processing 00023.wav...\n",
      "Loaded 00023.wav with 1323000 samples (Duration: 30.00 seconds)\n",
      "Processing 00024.wav...\n",
      "Loaded 00024.wav with 1323000 samples (Duration: 30.00 seconds)\n",
      "Processing 00025.wav...\n",
      "Loaded 00025.wav with 1323000 samples (Duration: 30.00 seconds)\n",
      "Processing 00026.wav...\n",
      "Loaded 00026.wav with 1323000 samples (Duration: 30.00 seconds)\n",
      "Processing 00027.wav...\n",
      "Loaded 00027.wav with 1323000 samples (Duration: 30.00 seconds)\n",
      "Processing 00028.wav...\n",
      "Loaded 00028.wav with 1323000 samples (Duration: 30.00 seconds)\n",
      "Processing 00029.wav...\n",
      "Loaded 00029.wav with 1323000 samples (Duration: 30.00 seconds)\n",
      "Processing 00030.wav...\n",
      "Loaded 00030.wav with 1323000 samples (Duration: 30.00 seconds)\n",
      "Processing 00031.wav...\n",
      "Loaded 00031.wav with 1323000 samples (Duration: 30.00 seconds)\n",
      "Processing 00032.wav...\n",
      "Loaded 00032.wav with 1323000 samples (Duration: 30.00 seconds)\n",
      "Processing 00033.wav...\n",
      "Loaded 00033.wav with 1323000 samples (Duration: 30.00 seconds)\n",
      "Processing 00034.wav...\n",
      "Loaded 00034.wav with 1323000 samples (Duration: 30.00 seconds)\n",
      "Processing 00035.wav...\n",
      "Loaded 00035.wav with 1323000 samples (Duration: 30.00 seconds)\n",
      "Processing 00036.wav...\n",
      "Loaded 00036.wav with 1323000 samples (Duration: 30.00 seconds)\n",
      "Processing 00037.wav...\n",
      "Loaded 00037.wav with 1440000 samples (Duration: 30.00 seconds)\n",
      "Processing 00038.wav...\n",
      "Loaded 00038.wav with 1323000 samples (Duration: 30.00 seconds)\n",
      "Processing 00039.wav...\n",
      "Loaded 00039.wav with 1323000 samples (Duration: 30.00 seconds)\n",
      "Processing 00040.wav...\n",
      "Loaded 00040.wav with 1323000 samples (Duration: 30.00 seconds)\n",
      "Processing 00041.wav...\n",
      "Loaded 00041.wav with 1323000 samples (Duration: 30.00 seconds)\n",
      "Processing 00042.wav...\n",
      "Loaded 00042.wav with 1323000 samples (Duration: 30.00 seconds)\n",
      "Processing 00043.wav...\n",
      "Loaded 00043.wav with 1323000 samples (Duration: 30.00 seconds)\n",
      "Processing 00044.wav...\n",
      "Loaded 00044.wav with 1323000 samples (Duration: 30.00 seconds)\n",
      "Processing 00045.wav...\n",
      "Loaded 00045.wav with 1323000 samples (Duration: 30.00 seconds)\n",
      "Processing 00046.wav...\n",
      "Loaded 00046.wav with 1323000 samples (Duration: 30.00 seconds)\n",
      "Processing 00047.wav...\n",
      "Loaded 00047.wav with 1323000 samples (Duration: 30.00 seconds)\n",
      "Processing 00048.wav...\n",
      "Loaded 00048.wav with 1323000 samples (Duration: 30.00 seconds)\n",
      "Processing 00049.wav...\n",
      "Loaded 00049.wav with 1323000 samples (Duration: 30.00 seconds)\n",
      "Processing 00050.wav...\n",
      "Loaded 00050.wav with 1323000 samples (Duration: 30.00 seconds)\n",
      "Processing 00051.wav...\n",
      "Loaded 00051.wav with 1323000 samples (Duration: 30.00 seconds)\n",
      "Processing 00052.wav...\n",
      "Loaded 00052.wav with 1323000 samples (Duration: 30.00 seconds)\n",
      "Processing 00053.wav...\n",
      "Loaded 00053.wav with 1323000 samples (Duration: 30.00 seconds)\n",
      "Processing 00054.wav...\n",
      "Loaded 00054.wav with 1323000 samples (Duration: 30.00 seconds)\n",
      "Processing 00055.wav...\n",
      "Loaded 00055.wav with 1323000 samples (Duration: 30.00 seconds)\n",
      "Processing 00056.wav...\n",
      "Loaded 00056.wav with 1323000 samples (Duration: 30.00 seconds)\n",
      "Processing 00057.wav...\n",
      "Loaded 00057.wav with 1323000 samples (Duration: 30.00 seconds)\n",
      "Processing 00058.wav...\n",
      "Loaded 00058.wav with 1323000 samples (Duration: 30.00 seconds)\n",
      "Processing 00059.wav...\n",
      "Loaded 00059.wav with 1323000 samples (Duration: 30.00 seconds)\n",
      "Processing 00060.wav...\n",
      "Loaded 00060.wav with 1323000 samples (Duration: 30.00 seconds)\n",
      "Processing 00061.wav...\n",
      "Loaded 00061.wav with 1323000 samples (Duration: 30.00 seconds)\n",
      "Processing 00062.wav...\n",
      "Loaded 00062.wav with 1323000 samples (Duration: 30.00 seconds)\n",
      "Processing 00063.wav...\n",
      "Loaded 00063.wav with 1323000 samples (Duration: 30.00 seconds)\n",
      "Processing 00064.wav...\n",
      "Loaded 00064.wav with 1323000 samples (Duration: 30.00 seconds)\n",
      "Processing 00065.wav...\n",
      "Loaded 00065.wav with 1323000 samples (Duration: 30.00 seconds)\n",
      "Processing 00066.wav...\n",
      "Loaded 00066.wav with 1323000 samples (Duration: 30.00 seconds)\n",
      "Processing 00067.wav...\n",
      "Loaded 00067.wav with 1323000 samples (Duration: 30.00 seconds)\n",
      "Processing 00068.wav...\n",
      "Loaded 00068.wav with 1323000 samples (Duration: 30.00 seconds)\n",
      "Processing 00069.wav...\n",
      "Loaded 00069.wav with 1323000 samples (Duration: 30.00 seconds)\n",
      "Processing 00070.wav...\n",
      "Loaded 00070.wav with 1323000 samples (Duration: 30.00 seconds)\n",
      "Processing 00071.wav...\n",
      "Loaded 00071.wav with 1323000 samples (Duration: 30.00 seconds)\n",
      "Processing 00072.wav...\n",
      "Loaded 00072.wav with 1323000 samples (Duration: 30.00 seconds)\n",
      "Processing 00073.wav...\n",
      "Loaded 00073.wav with 1323000 samples (Duration: 30.00 seconds)\n",
      "Processing 00074.wav...\n",
      "Loaded 00074.wav with 1323000 samples (Duration: 30.00 seconds)\n",
      "Processing 00075.wav...\n",
      "Loaded 00075.wav with 1323000 samples (Duration: 30.00 seconds)\n",
      "Processing 00076.wav...\n",
      "Loaded 00076.wav with 1323000 samples (Duration: 30.00 seconds)\n",
      "Processing 00077.wav...\n",
      "Loaded 00077.wav with 1323000 samples (Duration: 30.00 seconds)\n",
      "Processing 00078.wav...\n",
      "Loaded 00078.wav with 1323000 samples (Duration: 30.00 seconds)\n",
      "Processing 00079.wav...\n",
      "Loaded 00079.wav with 1323000 samples (Duration: 30.00 seconds)\n",
      "Processing 00080.wav...\n",
      "Loaded 00080.wav with 1323000 samples (Duration: 30.00 seconds)\n",
      "Processing 00081.wav...\n",
      "Loaded 00081.wav with 1323000 samples (Duration: 30.00 seconds)\n",
      "Processing 00082.wav...\n",
      "Loaded 00082.wav with 1323000 samples (Duration: 30.00 seconds)\n",
      "Processing 00083.wav...\n",
      "Loaded 00083.wav with 1323000 samples (Duration: 30.00 seconds)\n",
      "Processing 00084.wav...\n",
      "Loaded 00084.wav with 1323000 samples (Duration: 30.00 seconds)\n",
      "Processing 00085.wav...\n",
      "Loaded 00085.wav with 1323000 samples (Duration: 30.00 seconds)\n",
      "Processing 00086.wav...\n",
      "Loaded 00086.wav with 1323000 samples (Duration: 30.00 seconds)\n",
      "Processing 00087.wav...\n",
      "Loaded 00087.wav with 1323000 samples (Duration: 30.00 seconds)\n",
      "Processing 00088.wav...\n",
      "Loaded 00088.wav with 1323000 samples (Duration: 30.00 seconds)\n",
      "Processing 00089.wav...\n",
      "Loaded 00089.wav with 1323000 samples (Duration: 30.00 seconds)\n",
      "Processing 00090.wav...\n",
      "Loaded 00090.wav with 1323000 samples (Duration: 30.00 seconds)\n",
      "Processing 00091.wav...\n",
      "Loaded 00091.wav with 1323000 samples (Duration: 30.00 seconds)\n",
      "Processing 00092.wav...\n",
      "Loaded 00092.wav with 1323000 samples (Duration: 30.00 seconds)\n",
      "Processing 00093.wav...\n",
      "Loaded 00093.wav with 1323000 samples (Duration: 30.00 seconds)\n",
      "Processing 00094.wav...\n",
      "Loaded 00094.wav with 1323000 samples (Duration: 30.00 seconds)\n",
      "Processing 00095.wav...\n",
      "Loaded 00095.wav with 1323000 samples (Duration: 30.00 seconds)\n",
      "Processing 00096.wav...\n",
      "Loaded 00096.wav with 1323000 samples (Duration: 30.00 seconds)\n",
      "Processing 00097.wav...\n",
      "Loaded 00097.wav with 1323000 samples (Duration: 30.00 seconds)\n",
      "Processing 00098.wav...\n",
      "Loaded 00098.wav with 1323000 samples (Duration: 30.00 seconds)\n",
      "Processing 00099.wav...\n",
      "Loaded 00099.wav with 1323000 samples (Duration: 30.00 seconds)\n",
      "Processing 00100.wav...\n",
      "Loaded 00100.wav with 1323000 samples (Duration: 30.00 seconds)\n"
     ]
    }
   ],
   "source": [
    "import os\n",
    "import librosa\n",
    "\n",
    "# Directory containing the .wav files\n",
    "directory = os.getcwd()  # Use current directory, or specify the path\n",
    "wav_files = [file for file in os.listdir(directory) if file.endswith('.wav')]\n",
    "\n",
    "# Process each file to load only the first 30 seconds\n",
    "for file in wav_files:\n",
    "    file_path = os.path.join(directory, file)  # Ensures correct file paths\n",
    "    print(f\"Processing {file}...\")\n",
    "    y, sr = librosa.load(file_path, sr=None, duration=30.0)  # Load first 30 seconds\n",
    "    print(f\"Loaded {file} with {len(y)} samples (Duration: {len(y) / sr:.2f} seconds)\")\n"
   ]
  },
  {
   "cell_type": "markdown",
   "metadata": {},
   "source": [
    "Individual WAV files need to be retained and stored for further processing, which is done using a dictionary."
   ]
  },
  {
   "cell_type": "code",
   "execution_count": 31,
   "metadata": {},
   "outputs": [],
   "source": [
    "audio_files_data = {}\n",
    "for file in wav_files:\n",
    "    file_path = os.path.join(directory, file)\n",
    "    y, sr = librosa.load(file_path, sr=None, duration=30.0)\n",
    "    audio_files_data[file] = y\n"
   ]
  },
  {
   "cell_type": "markdown",
   "metadata": {},
   "source": [
    "audio_files_data is a dictionary where each key is the filename of the audio recording, and the corresponding value is the waveform data consisting of NumPy arrays. Each NumPy array contains the audio samples of the file in the time domain, typically of type float32 (scaled between -1.0 and 1.0 for most libraries like librosa). The raw waveform data will form the basis of our feature extraction task, which begins with transformation."
   ]
  },
  {
   "cell_type": "code",
   "execution_count": 32,
   "metadata": {},
   "outputs": [
    {
     "name": "stdout",
     "output_type": "stream",
     "text": [
      "00001.wav: 30.00 seconds\n",
      "00002.wav: 30.00 seconds\n",
      "00003.wav: 30.00 seconds\n",
      "00004.wav: 30.00 seconds\n",
      "00005.wav: 30.00 seconds\n",
      "00006.wav: 30.00 seconds\n",
      "00007.wav: 30.00 seconds\n",
      "00008.wav: 30.00 seconds\n",
      "00009.wav: 30.00 seconds\n",
      "00010.wav: 30.00 seconds\n",
      "00011.wav: 30.00 seconds\n",
      "00012.wav: 30.00 seconds\n",
      "00013.wav: 30.00 seconds\n",
      "00014.wav: 30.00 seconds\n",
      "00015.wav: 30.00 seconds\n",
      "00016.wav: 30.00 seconds\n",
      "00017.wav: 30.00 seconds\n",
      "00018.wav: 30.00 seconds\n",
      "00019.wav: 30.00 seconds\n",
      "00020.wav: 30.00 seconds\n",
      "00021.wav: 30.00 seconds\n",
      "00022.wav: 30.00 seconds\n",
      "00023.wav: 30.00 seconds\n",
      "00024.wav: 30.00 seconds\n",
      "00025.wav: 30.00 seconds\n",
      "00026.wav: 30.00 seconds\n",
      "00027.wav: 30.00 seconds\n",
      "00028.wav: 30.00 seconds\n",
      "00029.wav: 30.00 seconds\n",
      "00030.wav: 30.00 seconds\n",
      "00031.wav: 30.00 seconds\n",
      "00032.wav: 30.00 seconds\n",
      "00033.wav: 30.00 seconds\n",
      "00034.wav: 30.00 seconds\n",
      "00035.wav: 30.00 seconds\n",
      "00036.wav: 30.00 seconds\n",
      "00037.wav: 32.65 seconds\n",
      "Warning: 00037.wav does not contain exactly 30 seconds!\n",
      "00038.wav: 30.00 seconds\n",
      "00039.wav: 30.00 seconds\n",
      "00040.wav: 30.00 seconds\n",
      "00041.wav: 30.00 seconds\n",
      "00042.wav: 30.00 seconds\n",
      "00043.wav: 30.00 seconds\n",
      "00044.wav: 30.00 seconds\n",
      "00045.wav: 30.00 seconds\n",
      "00046.wav: 30.00 seconds\n",
      "00047.wav: 30.00 seconds\n",
      "00048.wav: 30.00 seconds\n",
      "00049.wav: 30.00 seconds\n",
      "00050.wav: 30.00 seconds\n",
      "00051.wav: 30.00 seconds\n",
      "00052.wav: 30.00 seconds\n",
      "00053.wav: 30.00 seconds\n",
      "00054.wav: 30.00 seconds\n",
      "00055.wav: 30.00 seconds\n",
      "00056.wav: 30.00 seconds\n",
      "00057.wav: 30.00 seconds\n",
      "00058.wav: 30.00 seconds\n",
      "00059.wav: 30.00 seconds\n",
      "00060.wav: 30.00 seconds\n",
      "00061.wav: 30.00 seconds\n",
      "00062.wav: 30.00 seconds\n",
      "00063.wav: 30.00 seconds\n",
      "00064.wav: 30.00 seconds\n",
      "00065.wav: 30.00 seconds\n",
      "00066.wav: 30.00 seconds\n",
      "00067.wav: 30.00 seconds\n",
      "00068.wav: 30.00 seconds\n",
      "00069.wav: 30.00 seconds\n",
      "00070.wav: 30.00 seconds\n",
      "00071.wav: 30.00 seconds\n",
      "00072.wav: 30.00 seconds\n",
      "00073.wav: 30.00 seconds\n",
      "00074.wav: 30.00 seconds\n",
      "00075.wav: 30.00 seconds\n",
      "00076.wav: 30.00 seconds\n",
      "00077.wav: 30.00 seconds\n",
      "00078.wav: 30.00 seconds\n",
      "00079.wav: 30.00 seconds\n",
      "00080.wav: 30.00 seconds\n",
      "00081.wav: 30.00 seconds\n",
      "00082.wav: 30.00 seconds\n",
      "00083.wav: 30.00 seconds\n",
      "00084.wav: 30.00 seconds\n",
      "00085.wav: 30.00 seconds\n",
      "00086.wav: 30.00 seconds\n",
      "00087.wav: 30.00 seconds\n",
      "00088.wav: 30.00 seconds\n",
      "00089.wav: 30.00 seconds\n",
      "00090.wav: 30.00 seconds\n",
      "00091.wav: 30.00 seconds\n",
      "00092.wav: 30.00 seconds\n",
      "00093.wav: 30.00 seconds\n",
      "00094.wav: 30.00 seconds\n",
      "00095.wav: 30.00 seconds\n",
      "00096.wav: 30.00 seconds\n",
      "00097.wav: 30.00 seconds\n",
      "00098.wav: 30.00 seconds\n",
      "00099.wav: 30.00 seconds\n",
      "00100.wav: 30.00 seconds\n"
     ]
    }
   ],
   "source": [
    "# Validate that all loaded waveforms are 30 seconds long\n",
    "for file, waveform in audio_files_data.items():\n",
    "    duration = len(waveform) / sr  # Calculate duration in seconds\n",
    "    print(f\"{file}: {duration:.2f} seconds\")\n",
    "    if duration != 30.0:\n",
    "        print(f\"Warning: {file} does not contain exactly 30 seconds!\")\n"
   ]
  },
  {
   "cell_type": "markdown",
   "metadata": {},
   "source": [
    "Above, I've validated that every WAV file has been successfully loaded into the dictionary, and each waveform length is 30 seconds."
   ]
  },
  {
   "cell_type": "markdown",
   "metadata": {},
   "source": [
    "For the purposes of additional context on signal processing, an example of a waveform (from recording 1) is plotted below:"
   ]
  },
  {
   "cell_type": "code",
   "execution_count": 33,
   "metadata": {},
   "outputs": [
    {
     "data": {
      "image/png": "[encoded data removed]",
      "text/plain": [
       "<Figure size 1200x600 with 1 Axes>"
      ]
     },
     "metadata": {},
     "output_type": "display_data"
    }
   ],
   "source": [
    "import librosa.display\n",
    "import matplotlib.pyplot as plt\n",
    "import os\n",
    "\n",
    "# Load the first 30 seconds of '00001.wav'\n",
    "file_path = os.path.join(os.getcwd(), '00001.wav')\n",
    "waveform, sr = librosa.load(file_path, sr=None, duration=30.0)\n",
    "\n",
    "# Plot the waveform\n",
    "plt.figure(figsize=(12, 6))\n",
    "librosa.display.waveshow(waveform, sr=sr)\n",
    "plt.title(\"Waveform of '00001.wav' (First 30 Seconds)\")\n",
    "plt.xlabel(\"Time (seconds)\")\n",
    "plt.ylabel(\"Amplitude\")\n",
    "plt.xlim(0, 30)\n",
    "plt.grid()\n",
    "plt.show()\n"
   ]
  },
  {
   "cell_type": "markdown",
   "metadata": {},
   "source": [
    "Above you can see an example of one the 30-second raw waveforms, corresponding to one of the recordings. The plot corresponds to the 1-dimensional array that each filename is associated with in the audio_files_data dictionary. The array values represent the amplitude levels of the audio signal at each sampled point in time. They are normalised between 1 and -1 by Librosa library."
   ]
  },
  {
   "cell_type": "markdown",
   "metadata": {},
   "source": [
    "Loading the QMUL MLEnd Deception Dataset, and saving it under the variable 'df'. Below you can see an excerpt from the DataFrame:"
   ]
  },
  {
   "cell_type": "code",
   "execution_count": 34,
   "metadata": {},
   "outputs": [
    {
     "data": {
      "text/html": [
       "<div>\n",
       "<style scoped>\n",
       "    .dataframe tbody tr th:only-of-type {\n",
       "        vertical-align: middle;\n",
       "    }\n",
       "\n",
       "    .dataframe tbody tr th {\n",
       "        vertical-align: top;\n",
       "    }\n",
       "\n",
       "    .dataframe thead th {\n",
       "        text-align: right;\n",
       "    }\n",
       "</style>\n",
       "<table border=\"1\" class=\"dataframe\">\n",
       "  <thead>\n",
       "    <tr style=\"text-align: right;\">\n",
       "      <th></th>\n",
       "      <th>filename</th>\n",
       "      <th>Language</th>\n",
       "      <th>Story_type</th>\n",
       "    </tr>\n",
       "  </thead>\n",
       "  <tbody>\n",
       "    <tr>\n",
       "      <th>0</th>\n",
       "      <td>00001.wav</td>\n",
       "      <td>Hindi</td>\n",
       "      <td>deceptive_story</td>\n",
       "    </tr>\n",
       "    <tr>\n",
       "      <th>1</th>\n",
       "      <td>00002.wav</td>\n",
       "      <td>English</td>\n",
       "      <td>true_story</td>\n",
       "    </tr>\n",
       "    <tr>\n",
       "      <th>2</th>\n",
       "      <td>00003.wav</td>\n",
       "      <td>English</td>\n",
       "      <td>deceptive_story</td>\n",
       "    </tr>\n",
       "    <tr>\n",
       "      <th>3</th>\n",
       "      <td>00004.wav</td>\n",
       "      <td>Bengali</td>\n",
       "      <td>deceptive_story</td>\n",
       "    </tr>\n",
       "    <tr>\n",
       "      <th>4</th>\n",
       "      <td>00005.wav</td>\n",
       "      <td>English</td>\n",
       "      <td>deceptive_story</td>\n",
       "    </tr>\n",
       "  </tbody>\n",
       "</table>\n",
       "</div>"
      ],
      "text/plain": [
       "    filename Language       Story_type\n",
       "0  00001.wav    Hindi  deceptive_story\n",
       "1  00002.wav  English       true_story\n",
       "2  00003.wav  English  deceptive_story\n",
       "3  00004.wav  Bengali  deceptive_story\n",
       "4  00005.wav  English  deceptive_story"
      ]
     },
     "execution_count": 34,
     "metadata": {},
     "output_type": "execute_result"
    }
   ],
   "source": [
    "import pandas as pd\n",
    "\n",
    "df = pd.read_csv('MLEndDD_story_attributes_small.csv')\n",
    "df.head()"
   ]
  },
  {
   "cell_type": "markdown",
   "metadata": {},
   "source": [
    "Since we are gathering data from two separate sources (wav files and the .csv dataset), we need to verify alignment between the df DataFrame and our audio files, by ensuring all .wav files are present in the DataFrame. As you can see in the window below, all files are present."
   ]
  },
  {
   "cell_type": "code",
   "execution_count": 35,
   "metadata": {},
   "outputs": [
    {
     "name": "stdout",
     "output_type": "stream",
     "text": [
      "Missing files from directory: set()\n",
      "Extra files not in DataFrame: set()\n"
     ]
    }
   ],
   "source": [
    "import os\n",
    "\n",
    "# Get list of .wav files in the directory\n",
    "wav_files = set([file for file in os.listdir() if file.endswith('.wav')])\n",
    "\n",
    "# Get list of filenames from the DataFrame\n",
    "df_files = set(df['filename'])\n",
    "\n",
    "# Check for mismatches\n",
    "missing_files = df_files - wav_files\n",
    "extra_files = wav_files - df_files\n",
    "\n",
    "print(\"Missing files from directory:\", missing_files)\n",
    "print(\"Extra files not in DataFrame:\", extra_files)\n"
   ]
  },
  {
   "cell_type": "markdown",
   "metadata": {},
   "source": [
    "The next step is to append our MLEnd dataframe (df), by adding the waveform data that is now stored in the audio_files_data to the DataFrame.\n",
    "\n",
    "* Matching each filename (filename column) to the corresponding waveform stored in the audio_files_data dictionary.\n",
    "* Creating a new column in the DataFrame (e.g., waveform) to store the waveform data."
   ]
  },
  {
   "cell_type": "code",
   "execution_count": 36,
   "metadata": {},
   "outputs": [],
   "source": [
    "# Add waveform data to the DataFrame\n",
    "df['waveform'] = df['filename'].apply(lambda x: audio_files_data[x] if x in audio_files_data else None)\n",
    "\n",
    "# To ensure all recordings are still under same sampling rate, a column for sr is also added.\n",
    "df['sampling_rate'] = sr  # Replace `sr` with the actual sampling rate if variable"
   ]
  },
  {
   "cell_type": "markdown",
   "metadata": {},
   "source": [
    "As you can see below, our DataFrame now contains a waveform column."
   ]
  },
  {
   "cell_type": "code",
   "execution_count": 41,
   "metadata": {},
   "outputs": [
    {
     "data": {
      "text/html": [
       "<div>\n",
       "<style scoped>\n",
       "    .dataframe tbody tr th:only-of-type {\n",
       "        vertical-align: middle;\n",
       "    }\n",
       "\n",
       "    .dataframe tbody tr th {\n",
       "        vertical-align: top;\n",
       "    }\n",
       "\n",
       "    .dataframe thead th {\n",
       "        text-align: right;\n",
       "    }\n",
       "</style>\n",
       "<table border=\"1\" class=\"dataframe\">\n",
       "  <thead>\n",
       "    <tr style=\"text-align: right;\">\n",
       "      <th></th>\n",
       "      <th>filename</th>\n",
       "      <th>Language</th>\n",
       "      <th>Story_type</th>\n",
       "      <th>waveform</th>\n",
       "      <th>sampling_rate</th>\n",
       "    </tr>\n",
       "  </thead>\n",
       "  <tbody>\n",
       "    <tr>\n",
       "      <th>0</th>\n",
       "      <td>00001.wav</td>\n",
       "      <td>Hindi</td>\n",
       "      <td>deceptive_story</td>\n",
       "      <td>[1.5258789e-05, 1.5258789e-05, 3.0517578e-05, ...</td>\n",
       "      <td>44100</td>\n",
       "    </tr>\n",
       "    <tr>\n",
       "      <th>1</th>\n",
       "      <td>00002.wav</td>\n",
       "      <td>English</td>\n",
       "      <td>true_story</td>\n",
       "      <td>[0.0008239746, 0.0008239746, 0.00088500977, 0....</td>\n",
       "      <td>44100</td>\n",
       "    </tr>\n",
       "    <tr>\n",
       "      <th>2</th>\n",
       "      <td>00003.wav</td>\n",
       "      <td>English</td>\n",
       "      <td>deceptive_story</td>\n",
       "      <td>[0.0002593994, -3.0517578e-05, -0.000289917, -...</td>\n",
       "      <td>44100</td>\n",
       "    </tr>\n",
       "    <tr>\n",
       "      <th>3</th>\n",
       "      <td>00004.wav</td>\n",
       "      <td>Bengali</td>\n",
       "      <td>deceptive_story</td>\n",
       "      <td>[0.0, -6.1035156e-05, 3.0517578e-05, -9.155273...</td>\n",
       "      <td>44100</td>\n",
       "    </tr>\n",
       "    <tr>\n",
       "      <th>4</th>\n",
       "      <td>00005.wav</td>\n",
       "      <td>English</td>\n",
       "      <td>deceptive_story</td>\n",
       "      <td>[-0.00033569336, -0.00048828125, -0.000579834,...</td>\n",
       "      <td>44100</td>\n",
       "    </tr>\n",
       "  </tbody>\n",
       "</table>\n",
       "</div>"
      ],
      "text/plain": [
       "    filename Language       Story_type  \\\n",
       "0  00001.wav    Hindi  deceptive_story   \n",
       "1  00002.wav  English       true_story   \n",
       "2  00003.wav  English  deceptive_story   \n",
       "3  00004.wav  Bengali  deceptive_story   \n",
       "4  00005.wav  English  deceptive_story   \n",
       "\n",
       "                                            waveform  sampling_rate  \n",
       "0  [1.5258789e-05, 1.5258789e-05, 3.0517578e-05, ...          44100  \n",
       "1  [0.0008239746, 0.0008239746, 0.00088500977, 0....          44100  \n",
       "2  [0.0002593994, -3.0517578e-05, -0.000289917, -...          44100  \n",
       "3  [0.0, -6.1035156e-05, 3.0517578e-05, -9.155273...          44100  \n",
       "4  [-0.00033569336, -0.00048828125, -0.000579834,...          44100  "
      ]
     },
     "execution_count": 41,
     "metadata": {},
     "output_type": "execute_result"
    }
   ],
   "source": [
    "df.head(5)"
   ]
  },
  {
   "cell_type": "markdown",
   "metadata": {},
   "source": [
    "### Feature Extraction"
   ]
  },
  {
   "cell_type": "markdown",
   "metadata": {},
   "source": [
    "#### Mel-Frequency Cepstral Coefficients (MFCCSs)\n",
    "\n",
    "One of the types of features commonly used in speech processing are the Mel-Frequency Cepstral Coefficents (MFCCs). They are a representation of a sound signal's spectral envelope, meaning they describe the overall shape of the spectrum. Librosa library helps us automate the calculation for this metric, but the pipeline of the MFCC extraction process is outlined below:\n",
    "\n",
    "1. Preprocessing:\n",
    "* Divide the audio signal into short, overlapping frames using a windowing function.\n",
    "2. Fourier Transform:\n",
    "* Convert the time-domain signal into the frequency domain, using Short-Time Fourier Transforms (STFT).\n",
    "3. Mel Scale Filter Bank:\n",
    "* Apply a set of triangular filters spaced according to the Mel scale, which emphasizes frequencies humans are more sensitive to (low-to-mid frequencies).\n",
    "4. Logarithmic Compression:\n",
    "* Take the log of the energy in each filter output to approximate human loudness perception.\n",
    "5. Discrete Cosine Transform (DCT):\n",
    "* Apply the DCT to decorrelate the log energies and produce compact, low-dimensional features.\n",
    "6. Result:\n",
    "* MFCC features"
   ]
  },
  {
   "cell_type": "markdown",
   "metadata": {},
   "source": [
    "#### Pitch (Fundamental Frequency)\n",
    "* Pitch is the fundamental frequency of the audio, representing the perceived 'highness' or 'lowness' of voice. \n",
    "* Measured in Herts (Hz).\n",
    "* Can reflect psycho-emotional states such as excitement, stress, or deception. If increased at the end of the sentence, could often be associated with the sentence being a question. \n",
    "* There is some research indicating that people practising deceptive speech might adjust their pitch to sound more convincing."
   ]
  },
  {
   "cell_type": "markdown",
   "metadata": {},
   "source": [
    "#### Spectral Centroid\n",
    "* Spectral centroid measured the 'centre of mass' of the frequency spectrum.\n",
    "* For sharp, high-pitched sounds, the centroid tends to be higher. For dull, low-pitched sounds, it’s lower.\n",
    "* A controlled or rehearsed deceptive speech may have consistently lower spectral centroid, reflecting reduced variability in vocal tone. Conversely, a speaker might try to emphasise certain words more strongly when lying to appear convincing, which leads to sharp sounds and consequently higher spectral centroids."
   ]
  },
  {
   "cell_type": "markdown",
   "metadata": {},
   "source": [
    "#### Spectral Bandwith\n",
    "* Spectral bandwidth measures the range of frequencies where most of the energy in the signal is concentrated.\n",
    "* It captures how \"wide\" or \"narrow\" the frequency spectrum is.\n",
    "* Speech under stress or anxiety may show variations in spectral bandwidth"
   ]
  },
  {
   "cell_type": "markdown",
   "metadata": {},
   "source": [
    "#### Spectral Contrast\n",
    "* Spectral contrast measures the difference in amplitude (dB) between spectral peaks (high energy) and valleys (low energy) across different frequency bands. [1]\n",
    "* It effectively quantifies the sharpness and clarity of different parts of the frequency spectrum.\n",
    "* May capture subtle variations in speech clarity and tone, which can be important cues in deception detection"
   ]
  },
  {
   "cell_type": "markdown",
   "metadata": {},
   "source": [
    "Above, I've introduced the 23 potential features that will be assessed, and the reasons why they may have certain predictive properties. In the code cell below, these 23 features are extracted, and combined under the 'combined_features' column in our DataFrame. This is done to simplify conversion to feature matrices, as by storing all features under a single array, we can directly convert it to the required format for ML. Furthermore, it will allow some features to be eliminated easier without altering the structure of the df, during the feature selection process and Principal Component Analysis."
   ]
  },
  {
   "cell_type": "code",
   "execution_count": 63,
   "metadata": {},
   "outputs": [
    {
     "name": "stdout",
     "output_type": "stream",
     "text": [
      "    filename                                  combined_features\n",
      "0  00001.wav  [-572.8810424804688, 117.57482147216797, 3.305...\n",
      "1  00002.wav  [-464.52960205078125, 128.62054443359375, 9.76...\n",
      "2  00003.wav  [-347.6861877441406, 126.6780776977539, 18.479...\n",
      "3  00004.wav  [-489.328369140625, 97.52426147460938, -13.172...\n",
      "4  00005.wav  [-492.7507629394531, 78.38700866699219, 19.885...\n"
     ]
    }
   ],
   "source": [
    "import numpy as np\n",
    "import librosa\n",
    "from joblib import Parallel, delayed\n",
    "\n",
    "# Function to extract MFCCs\n",
    "def extract_mfcc(waveform, sr, n_mfcc=13):\n",
    "    mfccs = librosa.feature.mfcc(y=np.array(waveform), sr=sr, n_mfcc=n_mfcc)\n",
    "    return np.mean(mfccs.T, axis=0)\n",
    "\n",
    "# Function to extract pitch with optimizations\n",
    "def extract_pitch(waveform, sr):\n",
    "    # Downsample for pitch extraction\n",
    "    waveform = librosa.resample(waveform, orig_sr=sr, target_sr=16000)\n",
    "    sr = 16000\n",
    "    # Optimized pitch extraction\n",
    "    pitch, voiced_flag, _ = librosa.pyin(\n",
    "        waveform, \n",
    "        fmin=librosa.note_to_hz('F2'), \n",
    "        fmax=librosa.note_to_hz('D4'), \n",
    "        sr=sr\n",
    "    )\n",
    "    pitch = pitch[~np.isnan(pitch)]\n",
    "    return np.mean(pitch) if len(pitch) > 0 else 0.0\n",
    "\n",
    "# Function to extract spectral centroid\n",
    "def extract_spectral_centroid(waveform, sr):\n",
    "    centroid = librosa.feature.spectral_centroid(y=waveform, sr=sr)\n",
    "    return np.mean(centroid)  # Take the mean across time frames\n",
    "\n",
    "# Function to extract spectral bandwidth\n",
    "def extract_spectral_bandwidth(waveform, sr):\n",
    "    bandwidth = librosa.feature.spectral_bandwidth(y=waveform, sr=sr)\n",
    "    return np.mean(bandwidth)  # Take the mean across time frames\n",
    "\n",
    "# Function to extract spectral contrast\n",
    "def extract_spectral_contrast(waveform, sr):\n",
    "    contrast = librosa.feature.spectral_contrast(y=waveform, sr=sr)\n",
    "    return np.mean(contrast, axis=1)  # Return mean of each contrast band\n",
    "\n",
    "# Combined function to extract all features\n",
    "def extract_features(waveform, sr, n_mfcc=13):\n",
    "    # Extract MFCCs\n",
    "    mfcc_features = extract_mfcc(waveform, sr, n_mfcc)\n",
    "    # Extract pitch\n",
    "    pitch_feature = extract_pitch(waveform, sr)\n",
    "    # Extract spectral centroid\n",
    "    spectral_centroid_feature = extract_spectral_centroid(waveform, sr)\n",
    "    # Extract spectral bandwidth\n",
    "    spectral_bandwidth_feature = extract_spectral_bandwidth(waveform, sr)\n",
    "    # Extract spectral contrast\n",
    "    spectral_contrast_feature = extract_spectral_contrast(waveform, sr)\n",
    "    \n",
    "    # Combine all features into one array\n",
    "    return np.hstack([\n",
    "        mfcc_features,  # 13 MFCCs\n",
    "        pitch_feature,  # 1 pitch value\n",
    "        spectral_centroid_feature,  # 1 spectral centroid value\n",
    "        spectral_bandwidth_feature,  # 1 spectral bandwidth value\n",
    "        spectral_contrast_feature  # 7 spectral contrast values (mean of each band)\n",
    "    ])\n",
    "\n",
    "# Apply feature extraction in parallel\n",
    "df['combined_features'] = Parallel(n_jobs=-1)(\n",
    "    delayed(lambda row: extract_features(row['waveform'], row['sampling_rate']))(row)\n",
    "    for _, row in df.iterrows()\n",
    ")\n",
    "\n",
    "# Inspect the resulting DataFrame\n",
    "print(df[['filename', 'combined_features']].head())\n"
   ]
  },
  {
   "cell_type": "code",
   "execution_count": 66,
   "metadata": {},
   "outputs": [
    {
     "data": {
      "text/html": [
       "<div>\n",
       "<style scoped>\n",
       "    .dataframe tbody tr th:only-of-type {\n",
       "        vertical-align: middle;\n",
       "    }\n",
       "\n",
       "    .dataframe tbody tr th {\n",
       "        vertical-align: top;\n",
       "    }\n",
       "\n",
       "    .dataframe thead th {\n",
       "        text-align: right;\n",
       "    }\n",
       "</style>\n",
       "<table border=\"1\" class=\"dataframe\">\n",
       "  <thead>\n",
       "    <tr style=\"text-align: right;\">\n",
       "      <th></th>\n",
       "      <th>filename</th>\n",
       "      <th>Language</th>\n",
       "      <th>Story_type</th>\n",
       "      <th>waveform</th>\n",
       "      <th>sampling_rate</th>\n",
       "      <th>mfcc_features</th>\n",
       "      <th>combined_features</th>\n",
       "    </tr>\n",
       "  </thead>\n",
       "  <tbody>\n",
       "    <tr>\n",
       "      <th>0</th>\n",
       "      <td>00001.wav</td>\n",
       "      <td>Hindi</td>\n",
       "      <td>deceptive_story</td>\n",
       "      <td>[1.5258789e-05, 1.5258789e-05, 3.0517578e-05, ...</td>\n",
       "      <td>44100</td>\n",
       "      <td>[-572.88104, 117.57482, 3.305011, 6.542352, 20...</td>\n",
       "      <td>[-572.8810424804688, 117.57482147216797, 3.305...</td>\n",
       "    </tr>\n",
       "    <tr>\n",
       "      <th>1</th>\n",
       "      <td>00002.wav</td>\n",
       "      <td>English</td>\n",
       "      <td>true_story</td>\n",
       "      <td>[0.0008239746, 0.0008239746, 0.00088500977, 0....</td>\n",
       "      <td>44100</td>\n",
       "      <td>[-464.5296, 128.62054, 9.766134, 20.881174, 12...</td>\n",
       "      <td>[-464.52960205078125, 128.62054443359375, 9.76...</td>\n",
       "    </tr>\n",
       "    <tr>\n",
       "      <th>2</th>\n",
       "      <td>00003.wav</td>\n",
       "      <td>English</td>\n",
       "      <td>deceptive_story</td>\n",
       "      <td>[0.0002593994, -3.0517578e-05, -0.000289917, -...</td>\n",
       "      <td>44100</td>\n",
       "      <td>[-347.6862, 126.67808, 18.479227, 13.381557, 1...</td>\n",
       "      <td>[-347.6861877441406, 126.6780776977539, 18.479...</td>\n",
       "    </tr>\n",
       "    <tr>\n",
       "      <th>3</th>\n",
       "      <td>00004.wav</td>\n",
       "      <td>Bengali</td>\n",
       "      <td>deceptive_story</td>\n",
       "      <td>[0.0, -6.1035156e-05, 3.0517578e-05, -9.155273...</td>\n",
       "      <td>44100</td>\n",
       "      <td>[-489.32837, 97.52426, -13.172767, 15.649774, ...</td>\n",
       "      <td>[-489.328369140625, 97.52426147460938, -13.172...</td>\n",
       "    </tr>\n",
       "    <tr>\n",
       "      <th>4</th>\n",
       "      <td>00005.wav</td>\n",
       "      <td>English</td>\n",
       "      <td>deceptive_story</td>\n",
       "      <td>[-0.00033569336, -0.00048828125, -0.000579834,...</td>\n",
       "      <td>44100</td>\n",
       "      <td>[-492.75076, 78.38701, 19.885544, 9.765016, 9....</td>\n",
       "      <td>[-492.7507629394531, 78.38700866699219, 19.885...</td>\n",
       "    </tr>\n",
       "  </tbody>\n",
       "</table>\n",
       "</div>"
      ],
      "text/plain": [
       "    filename Language       Story_type  \\\n",
       "0  00001.wav    Hindi  deceptive_story   \n",
       "1  00002.wav  English       true_story   \n",
       "2  00003.wav  English  deceptive_story   \n",
       "3  00004.wav  Bengali  deceptive_story   \n",
       "4  00005.wav  English  deceptive_story   \n",
       "\n",
       "                                            waveform  sampling_rate  \\\n",
       "0  [1.5258789e-05, 1.5258789e-05, 3.0517578e-05, ...          44100   \n",
       "1  [0.0008239746, 0.0008239746, 0.00088500977, 0....          44100   \n",
       "2  [0.0002593994, -3.0517578e-05, -0.000289917, -...          44100   \n",
       "3  [0.0, -6.1035156e-05, 3.0517578e-05, -9.155273...          44100   \n",
       "4  [-0.00033569336, -0.00048828125, -0.000579834,...          44100   \n",
       "\n",
       "                                       mfcc_features  \\\n",
       "0  [-572.88104, 117.57482, 3.305011, 6.542352, 20...   \n",
       "1  [-464.5296, 128.62054, 9.766134, 20.881174, 12...   \n",
       "2  [-347.6862, 126.67808, 18.479227, 13.381557, 1...   \n",
       "3  [-489.32837, 97.52426, -13.172767, 15.649774, ...   \n",
       "4  [-492.75076, 78.38701, 19.885544, 9.765016, 9....   \n",
       "\n",
       "                                   combined_features  \n",
       "0  [-572.8810424804688, 117.57482147216797, 3.305...  \n",
       "1  [-464.52960205078125, 128.62054443359375, 9.76...  \n",
       "2  [-347.6861877441406, 126.6780776977539, 18.479...  \n",
       "3  [-489.328369140625, 97.52426147460938, -13.172...  \n",
       "4  [-492.7507629394531, 78.38700866699219, 19.885...  "
      ]
     },
     "execution_count": 66,
     "metadata": {},
     "output_type": "execute_result"
    }
   ],
   "source": [
    "df.head()"
   ]
  },
  {
   "cell_type": "markdown",
   "metadata": {},
   "source": [
    "Verifying that combined_features column contains an array of 23 values for each data point, as expected:"
   ]
  },
  {
   "cell_type": "code",
   "execution_count": 69,
   "metadata": {},
   "outputs": [
    {
     "name": "stdout",
     "output_type": "stream",
     "text": [
      "Recording 1: feature shape = (23,)\n",
      "Recording 2: feature shape = (23,)\n",
      "Recording 3: feature shape = (23,)\n",
      "Recording 4: feature shape = (23,)\n",
      "Recording 5: feature shape = (23,)\n",
      "Recording 6: feature shape = (23,)\n",
      "Recording 7: feature shape = (23,)\n",
      "Recording 8: feature shape = (23,)\n",
      "Recording 9: feature shape = (23,)\n",
      "Recording 10: feature shape = (23,)\n",
      "Recording 11: feature shape = (23,)\n",
      "Recording 12: feature shape = (23,)\n",
      "Recording 13: feature shape = (23,)\n",
      "Recording 14: feature shape = (23,)\n",
      "Recording 15: feature shape = (23,)\n",
      "Recording 16: feature shape = (23,)\n",
      "Recording 17: feature shape = (23,)\n",
      "Recording 18: feature shape = (23,)\n",
      "Recording 19: feature shape = (23,)\n",
      "Recording 20: feature shape = (23,)\n",
      "Recording 21: feature shape = (23,)\n",
      "Recording 22: feature shape = (23,)\n",
      "Recording 23: feature shape = (23,)\n",
      "Recording 24: feature shape = (23,)\n",
      "Recording 25: feature shape = (23,)\n",
      "Recording 26: feature shape = (23,)\n",
      "Recording 27: feature shape = (23,)\n",
      "Recording 28: feature shape = (23,)\n",
      "Recording 29: feature shape = (23,)\n",
      "Recording 30: feature shape = (23,)\n",
      "Recording 31: feature shape = (23,)\n",
      "Recording 32: feature shape = (23,)\n",
      "Recording 33: feature shape = (23,)\n",
      "Recording 34: feature shape = (23,)\n",
      "Recording 35: feature shape = (23,)\n",
      "Recording 36: feature shape = (23,)\n",
      "Recording 37: feature shape = (23,)\n",
      "Recording 38: feature shape = (23,)\n",
      "Recording 39: feature shape = (23,)\n",
      "Recording 40: feature shape = (23,)\n",
      "Recording 41: feature shape = (23,)\n",
      "Recording 42: feature shape = (23,)\n",
      "Recording 43: feature shape = (23,)\n",
      "Recording 44: feature shape = (23,)\n",
      "Recording 45: feature shape = (23,)\n",
      "Recording 46: feature shape = (23,)\n",
      "Recording 47: feature shape = (23,)\n",
      "Recording 48: feature shape = (23,)\n",
      "Recording 49: feature shape = (23,)\n",
      "Recording 50: feature shape = (23,)\n",
      "Recording 51: feature shape = (23,)\n",
      "Recording 52: feature shape = (23,)\n",
      "Recording 53: feature shape = (23,)\n",
      "Recording 54: feature shape = (23,)\n",
      "Recording 55: feature shape = (23,)\n",
      "Recording 56: feature shape = (23,)\n",
      "Recording 57: feature shape = (23,)\n",
      "Recording 58: feature shape = (23,)\n",
      "Recording 59: feature shape = (23,)\n",
      "Recording 60: feature shape = (23,)\n",
      "Recording 61: feature shape = (23,)\n",
      "Recording 62: feature shape = (23,)\n",
      "Recording 63: feature shape = (23,)\n",
      "Recording 64: feature shape = (23,)\n",
      "Recording 65: feature shape = (23,)\n",
      "Recording 66: feature shape = (23,)\n",
      "Recording 67: feature shape = (23,)\n",
      "Recording 68: feature shape = (23,)\n",
      "Recording 69: feature shape = (23,)\n",
      "Recording 70: feature shape = (23,)\n",
      "Recording 71: feature shape = (23,)\n",
      "Recording 72: feature shape = (23,)\n",
      "Recording 73: feature shape = (23,)\n",
      "Recording 74: feature shape = (23,)\n",
      "Recording 75: feature shape = (23,)\n",
      "Recording 76: feature shape = (23,)\n",
      "Recording 77: feature shape = (23,)\n",
      "Recording 78: feature shape = (23,)\n",
      "Recording 79: feature shape = (23,)\n",
      "Recording 80: feature shape = (23,)\n",
      "Recording 81: feature shape = (23,)\n",
      "Recording 82: feature shape = (23,)\n",
      "Recording 83: feature shape = (23,)\n",
      "Recording 84: feature shape = (23,)\n",
      "Recording 85: feature shape = (23,)\n",
      "Recording 86: feature shape = (23,)\n",
      "Recording 87: feature shape = (23,)\n",
      "Recording 88: feature shape = (23,)\n",
      "Recording 89: feature shape = (23,)\n",
      "Recording 90: feature shape = (23,)\n",
      "Recording 91: feature shape = (23,)\n",
      "Recording 92: feature shape = (23,)\n",
      "Recording 93: feature shape = (23,)\n",
      "Recording 94: feature shape = (23,)\n",
      "Recording 95: feature shape = (23,)\n",
      "Recording 96: feature shape = (23,)\n",
      "Recording 97: feature shape = (23,)\n",
      "Recording 98: feature shape = (23,)\n",
      "Recording 99: feature shape = (23,)\n",
      "Recording 100: feature shape = (23,)\n"
     ]
    }
   ],
   "source": [
    "for idx, mfcc in enumerate(df['combined_features']):\n",
    "    print(f\"Recording {idx + 1}: feature shape = {np.array(mfcc).shape}\")\n"
   ]
  },
  {
   "cell_type": "markdown",
   "metadata": {},
   "source": [
    "Now that we've confirmed each data point has 23 features, these derived features will start as the basis of our model inputs (predictors). The final features will be selected and fine-tuned in the Feature Selection section."
   ]
  },
  {
   "cell_type": "code",
   "execution_count": 75,
   "metadata": {},
   "outputs": [],
   "source": [
    "X = np.array(df['combined_features'].tolist())  # Convert list of arrays to 2D NumPy array\n",
    "y = df['Story_type'].map({'true_story': 0, 'deceptive_story': 1}).values  # Encode labels\n"
   ]
  },
  {
   "cell_type": "markdown",
   "metadata": {},
   "source": [
    "X will have a shape of (100, 13) (100 recordings, 13 MFCC coefficients per recording). It represents the feature (input) matrix used to train the model. \n",
    "\n",
    "y will have a shape of (100,) and will consist of binary labels. It represents the target labels that the model tries to predict. Each element in y corresponds to either 'true_story' or 'deceptive_story'. The labels are encoded as numerical values:\n",
    "* true_story = 0\n",
    "* deceptive_story = 1"
   ]
  },
  {
   "cell_type": "markdown",
   "metadata": {},
   "source": [
    "### Splitting the data & Stratification\n",
    "\n",
    "Splitting the data into training and testing sets is a key step in ML workflow, to ensure the model is evaluated fairly and generalises effectively to unseen data.\n",
    "* The training set is used to teach the model patterns and relationships in the data, so that the model learns to map MFCC input features to the target labels.\n",
    "* The testing set is used to evaluate the effectiveness of the model in predicting labels for unseen data.\n",
    "\n",
    "An 80-20 split divides the dataset into 80% for the training of the model, and 20% for testing its performance. The code cell below executes this task."
   ]
  },
  {
   "cell_type": "code",
   "execution_count": 76,
   "metadata": {},
   "outputs": [
    {
     "name": "stdout",
     "output_type": "stream",
     "text": [
      "Training set shape: (80, 23) (80,)\n",
      "Testing set shape: (20, 23) (20,)\n"
     ]
    }
   ],
   "source": [
    "from sklearn.model_selection import train_test_split\n",
    "\n",
    "# Perform an 80-20 split\n",
    "X_train, X_test, y_train, y_test = train_test_split(X, y, test_size=0.2, random_state=42, stratify=y)\n",
    "\n",
    "# Print the shapes of the splits\n",
    "print(\"Training set shape:\", X_train.shape, y_train.shape)\n",
    "print(\"Testing set shape:\", X_test.shape, y_test.shape)\n"
   ]
  },
  {
   "cell_type": "markdown",
   "metadata": {},
   "source": [
    "It's also important to ensure both sets have equal and proportionate numbers of each label (true_story (0) and deceptive_story (1)). Imbalanced splits could lead to biased models that sometimes favour the majority class. The code cell below ensures the proportions of both labels in the two sets are as desired."
   ]
  },
  {
   "cell_type": "code",
   "execution_count": 77,
   "metadata": {},
   "outputs": [
    {
     "name": "stdout",
     "output_type": "stream",
     "text": [
      "Training set label distribution: {0: 40, 1: 40}\n",
      "Testing set label distribution: {0: 10, 1: 10}\n"
     ]
    }
   ],
   "source": [
    "from sklearn.model_selection import train_test_split\n",
    "\n",
    "X_train, X_test, y_train, y_test = train_test_split(X, y, test_size=0.2, random_state=42, stratify=y)\n",
    "\n",
    "# Print the label distribution in each set\n",
    "print(\"Training set label distribution:\", dict(zip(*np.unique(y_train, return_counts=True))))\n",
    "print(\"Testing set label distribution:\", dict(zip(*np.unique(y_test, return_counts=True))))\n"
   ]
  },
  {
   "cell_type": "markdown",
   "metadata": {},
   "source": [
    "### Feature Selection\n",
    "\n",
    "Currently we have 13 MFCC features that are traditionally known to be effective features for audio-based classification tasks, as well as 10 more spectral/prosodic features described earlier in this section."
   ]
  },
  {
   "cell_type": "markdown",
   "metadata": {},
   "source": [
    "It's important to inspect the ranges of our features data. Feature scaling is used to standardize and normalise the range of the features in a dataset. This is done to ensure all features contribute equally to the model. The code cell below explores feature ranges:"
   ]
  },
  {
   "cell_type": "code",
   "execution_count": 78,
   "metadata": {},
   "outputs": [
    {
     "name": "stdout",
     "output_type": "stream",
     "text": [
      "               0           1           2           3           4           5   \\\n",
      "count  100.000000  100.000000  100.000000  100.000000  100.000000  100.000000   \n",
      "mean  -474.657679  124.513297    9.613124   22.722013   14.043330    9.360846   \n",
      "std     98.954807   18.106209   19.274603   12.001448   10.337565   10.422049   \n",
      "min   -695.154053   78.387009  -50.979641   -6.407167  -10.335001  -18.272861   \n",
      "25%   -547.980255  110.617630   -2.113313   13.088441    6.634614    2.357565   \n",
      "50%   -477.395126  124.260242   12.640460   22.645071   13.900493    9.883647   \n",
      "75%   -407.153435  139.332787   21.566193   32.947001   21.946021   17.891836   \n",
      "max   -259.632202  168.289062   45.871838   48.687481   41.186886   27.094723   \n",
      "\n",
      "               6           7           8           9   ...          13  \\\n",
      "count  100.000000  100.000000  100.000000  100.000000  ...  100.000000   \n",
      "mean    -1.757269   -1.709979   -4.369583   -5.143395  ...  143.322931   \n",
      "std      9.948849    7.674492    7.260422    6.796467  ...   42.987239   \n",
      "min    -30.980148  -32.396957  -21.227236  -24.995733  ...   90.993801   \n",
      "25%     -7.497889   -5.217336   -7.889268   -9.396446  ...  108.231791   \n",
      "50%     -1.406774   -1.869913   -4.703878   -5.158941  ...  124.488236   \n",
      "75%      5.706363    3.458370    1.198227   -0.542995  ...  183.730687   \n",
      "max     19.421230   20.961531   11.743830    9.455196  ...  233.086874   \n",
      "\n",
      "                14           15          16          17          18  \\\n",
      "count   100.000000   100.000000  100.000000  100.000000  100.000000   \n",
      "mean   2626.693651  3072.330066   19.846939   12.444934   16.071310   \n",
      "std     788.114686   802.494462    3.998735    1.886644    1.639509   \n",
      "min    1316.367738  1580.199362   11.762939    9.171382   12.851532   \n",
      "25%    2109.748801  2530.913349   16.055173   11.183239   14.860493   \n",
      "50%    2433.403604  2923.128884   20.484449   11.916406   16.189571   \n",
      "75%    3012.309684  3421.709306   23.034663   13.629802   17.182379   \n",
      "max    5774.888227  5223.913805   27.887412   18.523152   20.371025   \n",
      "\n",
      "               19          20          21          22  \n",
      "count  100.000000  100.000000  100.000000  100.000000  \n",
      "mean    16.492046   17.398265   19.717527   25.337176  \n",
      "std      1.621820    1.597384    2.222262    5.349971  \n",
      "min     13.898599   14.827512   14.658187   15.999211  \n",
      "25%     15.286529   16.400588   18.110084   21.691888  \n",
      "50%     16.148897   17.136415   19.585450   25.493180  \n",
      "75%     17.533072   18.065850   21.058928   28.531192  \n",
      "max     22.137701   24.593537   26.734942   41.319607  \n",
      "\n",
      "[8 rows x 23 columns]\n"
     ]
    }
   ],
   "source": [
    "feature_df = pd.DataFrame(df['combined_features'].tolist())\n",
    "\n",
    "# Check descriptive statistics\n",
    "print(feature_df.describe())"
   ]
  },
  {
   "cell_type": "markdown",
   "metadata": {},
   "source": [
    "### Feature Scaling\n",
    "\n",
    "The cell above shows that there is significant variation in the ranges of the 23 features. Such variation, combined with the fact that Support Vector Machine (SVM) is the classifier algorithm of choice makes it evident that feature scaling is required in this case. It is completed in the code cell below.\n",
    "\n",
    "#### Standardization Formula\n",
    "\n",
    "The formula for standardization (Z-score scaling) is:\n",
    "\n",
    "$$\n",
    "z = \\frac{x - \\text{mean}}{\\text{std}}\n",
    "$$\n",
    "\n",
    "Where:\n",
    "- \\( z \\): The standardized value.\n",
    "- \\( x \\): The original feature value.\n",
    "- mean: The mean of the feature.\n",
    "- std: The standard deviation of the feature.\n",
    "\n",
    "This process transforms the data so that each feature has:\n",
    "1. A mean of \\( 0 \\).\n",
    "2. A standard deviation of \\( 1 \\).\n"
   ]
  },
  {
   "cell_type": "code",
   "execution_count": 84,
   "metadata": {},
   "outputs": [],
   "source": [
    "from sklearn.preprocessing import StandardScaler\n",
    "from sklearn.model_selection import train_test_split\n",
    "\n",
    "# Step 1: Split the data\n",
    "X_train, X_test, y_train, y_test = train_test_split(X, y, test_size=0.2, stratify=y, random_state=42)\n",
    "\n",
    "# Step 2: Initialize the scaler\n",
    "scaler = StandardScaler()\n",
    "\n",
    "# Step 3: Fit the scaler on the training data\n",
    "X_train_scaled = scaler.fit_transform(X_train)\n",
    "\n",
    "# Step 4: Transform the test data using the same scaler\n",
    "X_test_scaled = scaler.transform(X_test)\n",
    "\n",
    "# Now, both X_train_scaled and X_test_scaled are standardized\n"
   ]
  },
  {
   "cell_type": "markdown",
   "metadata": {},
   "source": [
    "Now both X_train_scaled and X_test_scaled are standardized. The scaler was fit only on the training data at first, to avoid data leakage. The test data is unseen data, so its statistics should not be utilised during training or scaling."
   ]
  },
  {
   "cell_type": "markdown",
   "metadata": {},
   "source": [
    "### Train-Test Split and Scaled Datasets\n",
    "\n",
    "#### 1. `X_train_scaled`\n",
    "- **What it is**: The scaled version of the training features.\n",
    "- **Size**: 80% of the original dataset.\n",
    "- **Purpose**:\n",
    "  - This is the dataset used to train my model.\n",
    "  - It has been standardised (mean = 0, standard deviation = 1) based on the training data’s mean and standard deviation.\n",
    "  - Contains only the features (e.g., MFCCs, pitch, spectral features).\n",
    "\n",
    "#### 2. `y_train`\n",
    "- **What it is**: The labels corresponding to `X_train_scaled`.\n",
    "- **Size**: Same number of rows as `X_train_scaled` (80% of the original dataset).\n",
    "- **Purpose**:\n",
    "  - These are the target labels (`0 = true_story`, `1 = deceptive_story`) used to train the model.\n",
    "  - It matches with the rows in `X_train_scaled`.\n",
    "\n",
    "#### 3. `X_test_scaled`\n",
    "- **What it is**: The scaled version of the testing features.\n",
    "- **Size**: 20% of the original dataset.\n",
    "- **Purpose**:\n",
    "  - This dataset is used to evaluate the performance of your trained model.\n",
    "  - It has been standardised using the mean and standard deviation calculated from the training data (to avoid data leakage).\n",
    "  - Like `X_train_scaled`, it contains only features.\n",
    "\n",
    "#### 4. `y_test`\n",
    "- **What it is**: The labels corresponding to `X_test_scaled`.\n",
    "- **Size**: Same number of rows as `X_test_scaled`.\n",
    "- **Purpose**:\n",
    "  - These are the true target labels used to test the model’s performance after training.\n",
    "  - It matches with the rows in `X_test_scaled`.\n",
    "\n",
    "---\n",
    "\n",
    "#### Why Are These Sets Important?\n",
    "\n",
    "#### `X_train_scaled` and `y_train`:\n",
    "- Used for training the machine learning model.\n",
    "- The model learns patterns in the features (`X_train_scaled`) to predict the labels (`y_train`).\n",
    "\n",
    "#### `X_test_scaled` and `y_test`:\n",
    "- Used to evaluate the trained model on unseen data (the testing set).\n",
    "- This helps measure how well the model generalizes to new, unseen data.\n",
    "\n",
    "---\n",
    "\n",
    "#### Summary of Shapes\n",
    "If your original dataset has 100 samples and each feature array has 23 features, the shapes of the new sets will be:\n",
    "- **`X_train_scaled`**: `(80, 23)` — 80 rows (training samples) × 23 features.\n",
    "- **`y_train`**: `(80,)` — 80 labels for training.\n",
    "- **`X_test_scaled`**: `(20, 23)` — 20 rows (test samples) × 23 features.\n",
    "- **`y_test`**: `(20,)` — 20 labels for testing.\n"
   ]
  },
  {
   "cell_type": "markdown",
   "metadata": {},
   "source": [
    "### Feature Selection\n",
    "\n",
    "#### Why Feature Selection?\n",
    "\n",
    "Dimensionality Reduction:\n",
    "* YOur dataset has 23 features (MFCCs, pitch, spectral features). Not all of them may contribute significantly to the classification task.\n",
    "* Removing irrelevant or redundant features helps simplify the model, reduces overfitting, and speeds up computation.\n",
    "\n",
    "\n",
    "Improve Model Interpretability:\n",
    "* With fewer features, it’s easier to understand which aspects of the audio recordings are most important for distinguishing truthful and deceptive speech.\n",
    "\n",
    "\n",
    "Model Performance:\n",
    "* By focusing only on the most relevant features, the model can achieve better generalization on unseen data, improving the performance on testing dataset.\n",
    "---\n"
   ]
  },
  {
   "cell_type": "markdown",
   "metadata": {},
   "source": [
    "### The Feature Selection process will be broken down into 3 parts:\n",
    "\n",
    "1. Visualisation of Feature Correlations\n",
    "* Check for highly correlated features that might contain unnecessary or reduntant information.\n",
    "* Features that are strongly correlated may not be of additional value\n",
    "\n",
    "2. Feature Importance Analysis using a Tree-Based model (Random Forest)\n",
    "* Helps identify importance of each feature\n",
    "\n",
    "3. Dimensionality Reduction with PCA:\n",
    "* Principal Component Analysis (PCA) reduces the number of features while retaining important information.\n"
   ]
  },
  {
   "cell_type": "markdown",
   "metadata": {},
   "source": [
    "#### Visualisation of Feature Correlations"
   ]
  },
  {
   "cell_type": "code",
   "execution_count": 87,
   "metadata": {},
   "outputs": [
    {
     "data": {
      "image/png": "[encoded data removed]",
      "text/plain": [
       "<Figure size 1000x800 with 2 Axes>"
      ]
     },
     "metadata": {},
     "output_type": "display_data"
    }
   ],
   "source": [
    "import seaborn as sns\n",
    "\n",
    "# Convert X_train_scaled into a DataFrame for better readability\n",
    "feature_df = pd.DataFrame(X_train_scaled, columns=[f'feature_{i}' for i in range(X_train_scaled.shape[1])])\n",
    "\n",
    "# Compute correlation matrix\n",
    "corr_matrix = feature_df.corr()\n",
    "\n",
    "# Plot heatmap\n",
    "plt.figure(figsize=(10, 8))\n",
    "sns.heatmap(corr_matrix, annot=False, cmap='coolwarm', linewidths=0.5)\n",
    "plt.title(\"Feature Correlation Heatmap\")\n",
    "plt.show()"
   ]
  },
  {
   "cell_type": "markdown",
   "metadata": {},
   "source": [
    "Features with low correlation to others are likely to provide unique and valuable information. High correlation indicates redundancy between features. \n",
    "\n",
    "Identifying Highly Correlated Features:\n",
    "* Removing features pairs with high correlation with |r| > 0.85\n",
    "* This is done in the code cell below."
   ]
  },
  {
   "cell_type": "code",
   "execution_count": 88,
   "metadata": {},
   "outputs": [
    {
     "name": "stdout",
     "output_type": "stream",
     "text": [
      "Features to remove due to high correlation: []\n"
     ]
    }
   ],
   "source": [
    "# Create a boolean mask for highly correlated features\n",
    "correlation_threshold = 0.85\n",
    "correlation_matrix = feature_df.corr()\n",
    "\n",
    "# Find indices of features to remove\n",
    "upper_triangle = np.triu(np.ones(correlation_matrix.shape), k=1)  # Upper triangle matrix\n",
    "high_corr_pairs = (correlation_matrix.abs() > correlation_threshold) & (upper_triangle > 0)\n",
    "\n",
    "features_to_remove = [\n",
    "    column for column in correlation_matrix.columns\n",
    "    if any(high_corr_pairs[column])\n",
    "]\n",
    "\n",
    "print(\"Features to remove due to high correlation:\", features_to_remove)\n",
    "\n",
    "# Drop features with high correlation\n",
    "feature_df_reduced = feature_df.drop(columns=features_to_remove)\n"
   ]
  },
  {
   "cell_type": "markdown",
   "metadata": {},
   "source": [
    "As evident, no feature pairs have an r modulus value of above 0.85, therefore no features are removed from the model at this stage."
   ]
  },
  {
   "cell_type": "markdown",
   "metadata": {},
   "source": [
    "### Random Forest Feature Importance\n",
    "The algorithm is trained on our training dataset to assess importance of each feature, prior to building final model."
   ]
  },
  {
   "cell_type": "code",
   "execution_count": 89,
   "metadata": {},
   "outputs": [
    {
     "data": {
      "image/png": "[encoded data removed]",
      "text/plain": [
       "<Figure size 1000x600 with 1 Axes>"
      ]
     },
     "metadata": {},
     "output_type": "display_data"
    },
    {
     "name": "stdout",
     "output_type": "stream",
     "text": [
      "Feature 0: Importance = 0.051212332148026195\n",
      "Feature 1: Importance = 0.043833791423559434\n",
      "Feature 2: Importance = 0.03347134234360111\n",
      "Feature 3: Importance = 0.042848514426235024\n",
      "Feature 4: Importance = 0.043255332672711644\n",
      "Feature 5: Importance = 0.044054521330562056\n",
      "Feature 6: Importance = 0.03985203474131178\n",
      "Feature 7: Importance = 0.05500629670842411\n",
      "Feature 8: Importance = 0.07852133729232469\n",
      "Feature 9: Importance = 0.06195834941293744\n",
      "Feature 10: Importance = 0.027237003006499262\n",
      "Feature 11: Importance = 0.04086070925011876\n",
      "Feature 12: Importance = 0.04460154837982407\n",
      "Feature 13: Importance = 0.032998917043816946\n",
      "Feature 14: Importance = 0.03196164152362326\n",
      "Feature 15: Importance = 0.038962049210137066\n",
      "Feature 16: Importance = 0.036342329496535576\n",
      "Feature 17: Importance = 0.03892681281186531\n",
      "Feature 18: Importance = 0.04893064400381038\n",
      "Feature 19: Importance = 0.042163482002301994\n",
      "Feature 20: Importance = 0.05361954435627204\n",
      "Feature 21: Importance = 0.03426221574831765\n",
      "Feature 22: Importance = 0.03511925066718419\n"
     ]
    }
   ],
   "source": [
    "from sklearn.ensemble import RandomForestClassifier\n",
    "\n",
    "# Train a Random Forest Classifier\n",
    "rf = RandomForestClassifier(random_state=42)\n",
    "rf.fit(X_train_scaled, y_train)\n",
    "\n",
    "# Get feature importances\n",
    "feature_importances = rf.feature_importances_\n",
    "\n",
    "# Plot feature importances\n",
    "plt.figure(figsize=(10, 6))\n",
    "plt.bar(range(len(feature_importances)), feature_importances, tick_label=[f'feature_{i}' for i in range(len(feature_importances))])\n",
    "plt.xticks(rotation=90)\n",
    "plt.title(\"Feature Importance (Random Forest)\")\n",
    "plt.xlabel(\"Features\")\n",
    "plt.ylabel(\"Importance\")\n",
    "plt.show()\n",
    "\n",
    "# Print feature importances\n",
    "for i, importance in enumerate(feature_importances):\n",
    "    print(f\"Feature {i}: Importance = {importance}\")\n"
   ]
  },
  {
   "cell_type": "markdown",
   "metadata": {},
   "source": [
    "The lowest importance score for any of the 23 features is 0.27. A common threshold used for this task is 0.1. Since all of our features have importance scores well above 0.1, all our features are still retained."
   ]
  },
  {
   "cell_type": "markdown",
   "metadata": {},
   "source": [
    "### Principal Component Analysis (PCA)\n",
    "\n",
    "PCA will help identify if dimensionality can be reduced, whilst retaining enough components to explain 95% of the variance in the data."
   ]
  },
  {
   "cell_type": "code",
   "execution_count": 93,
   "metadata": {},
   "outputs": [
    {
     "data": {
      "image/png": "[encoded data removed]",
      "text/plain": [
       "<Figure size 1000x600 with 1 Axes>"
      ]
     },
     "metadata": {},
     "output_type": "display_data"
    },
    {
     "name": "stdout",
     "output_type": "stream",
     "text": [
      "Number of components selected: 15\n"
     ]
    }
   ],
   "source": [
    "from sklearn.decomposition import PCA\n",
    "import matplotlib.pyplot as plt\n",
    "\n",
    "# Step 1: Initialize PCA\n",
    "pca = PCA(n_components=0.95)  # Retain 95% of variance\n",
    "\n",
    "# Step 2: Fit PCA on the training data\n",
    "X_train_pca = pca.fit_transform(X_train_scaled)\n",
    "\n",
    "# Step 3: Transform the test data\n",
    "X_test_pca = pca.transform(X_test_scaled)\n",
    "\n",
    "# Step 4: Plot cumulative explained variance\n",
    "cumulative_variance = pca.explained_variance_ratio_.cumsum()\n",
    "plt.figure(figsize=(10, 6))\n",
    "plt.plot(range(1, len(cumulative_variance) + 1), cumulative_variance, marker='o', linestyle='--')\n",
    "plt.title('Cumulative Explained Variance by PCA Components')\n",
    "plt.xlabel('Number of Principal Components')\n",
    "plt.ylabel('Cumulative Explained Variance')\n",
    "plt.grid()\n",
    "plt.show()\n",
    "\n",
    "# Step 5: Print number of components\n",
    "print(f\"Number of components selected: {pca.n_components_}\")\n"
   ]
  },
  {
   "cell_type": "markdown",
   "metadata": {},
   "source": [
    "* The plot shows how much variance is captured as you add more principal components.\n",
    "* 95% of variance could be captured by using 15 principal components \n",
    "* Code cell below "
   ]
  },
  {
   "cell_type": "code",
   "execution_count": 94,
   "metadata": {},
   "outputs": [
    {
     "data": {
      "image/png": "[encoded data removed]",
      "text/plain": [
       "<Figure size 1000x600 with 1 Axes>"
      ]
     },
     "metadata": {},
     "output_type": "display_data"
    },
    {
     "name": "stdout",
     "output_type": "stream",
     "text": [
      "Cumulative variance explained by 15 components: 0.95\n",
      "Shape of PCA-transformed training data: (80, 15)\n",
      "Shape of PCA-transformed testing data: (20, 15)\n"
     ]
    }
   ],
   "source": [
    "from sklearn.decomposition import PCA\n",
    "import matplotlib.pyplot as plt\n",
    "\n",
    "# Step 1: Initialize PCA with 15 components\n",
    "pca = PCA(n_components=15)\n",
    "\n",
    "# Step 2: Fit PCA on the training data\n",
    "X_train_pca = pca.fit_transform(X_train_scaled)\n",
    "\n",
    "# Step 3: Transform the test data\n",
    "X_test_pca = pca.transform(X_test_scaled)\n",
    "\n",
    "# Step 4: Plot explained variance for the 15 components\n",
    "explained_variance = pca.explained_variance_ratio_\n",
    "cumulative_variance = explained_variance.cumsum()\n",
    "\n",
    "plt.figure(figsize=(10, 6))\n",
    "plt.bar(range(1, 16), explained_variance, alpha=0.7, align='center', label='Individual Variance')\n",
    "plt.step(range(1, 16), cumulative_variance, where='mid', label='Cumulative Variance')\n",
    "plt.title('Explained Variance by PCA Components (15 Components)')\n",
    "plt.xlabel('Principal Component Index')\n",
    "plt.ylabel('Explained Variance')\n",
    "plt.legend(loc='best')\n",
    "plt.show()\n",
    "\n",
    "# Step 5: Print cumulative variance\n",
    "print(f\"Cumulative variance explained by 15 components: {cumulative_variance[-1]:.2f}\")\n",
    "print(f\"Shape of PCA-transformed training data: {X_train_pca.shape}\")\n",
    "print(f\"Shape of PCA-transformed testing data: {X_test_pca.shape}\")\n"
   ]
  },
  {
   "cell_type": "markdown",
   "metadata": {},
   "source": [
    "### Model Training"
   ]
  },
  {
   "cell_type": "markdown",
   "metadata": {},
   "source": [
    "The newly generated 15 PCA components will serve as the new features for our SVM classifier model."
   ]
  },
  {
   "cell_type": "markdown",
   "metadata": {},
   "source": [
    "#### Why Are These PCA Components the New Features?\n",
    "Dimensionality Reduction:\n",
    "\n",
    "PCA transforms the original 23 features into 15 new features (principal components) while retaining as much variance as possible from the data.\n",
    "These components are linear combinations of the original features but are uncorrelated (independent).\n",
    "Feature Representation:\n",
    "\n",
    "Each principal component represents a weighted combination of the original features (MFCCs, spectral features, pitch).\n",
    "The first few components capture most of the variance, meaning they hold the most relevant information for classification.\n",
    "Input for the Model:\n",
    "\n",
    "Instead of feeding all 23 original features to the SVM, you now feed the 15 PCA-transformed components.\n",
    "This reduces noise and redundancy, potentially improving the SVM's performance."
   ]
  },
  {
   "cell_type": "code",
   "execution_count": 95,
   "metadata": {},
   "outputs": [
    {
     "name": "stdout",
     "output_type": "stream",
     "text": [
      "Accuracy: 0.45\n",
      "\n",
      "Classification Report:\n",
      "                 precision    recall  f1-score   support\n",
      "\n",
      "     True Story       0.45      0.50      0.48        10\n",
      "Deceptive Story       0.44      0.40      0.42        10\n",
      "\n",
      "       accuracy                           0.45        20\n",
      "      macro avg       0.45      0.45      0.45        20\n",
      "   weighted avg       0.45      0.45      0.45        20\n",
      "\n",
      "\n",
      "Confusion Matrix:\n",
      "[[5 5]\n",
      " [6 4]]\n"
     ]
    }
   ],
   "source": [
    "from sklearn.svm import SVC\n",
    "from sklearn.metrics import accuracy_score, classification_report, confusion_matrix\n",
    "\n",
    "# Step 1: Initialize the SVM classifier\n",
    "svm = SVC(kernel='rbf', C=1, gamma='scale', random_state=42)\n",
    "\n",
    "# Step 2: Train the model\n",
    "svm.fit(X_train_pca, y_train)\n",
    "\n",
    "# Step 3: Predict on the test set\n",
    "y_pred = svm.predict(X_test_pca)\n",
    "\n",
    "# Step 4: Evaluate the model\n",
    "# Accuracy\n",
    "accuracy = accuracy_score(y_test, y_pred)\n",
    "print(f\"Accuracy: {accuracy:.2f}\")\n",
    "\n",
    "# Classification report (precision, recall, F1-score)\n",
    "print(\"\\nClassification Report:\")\n",
    "print(classification_report(y_test, y_pred, target_names=['True Story', 'Deceptive Story']))\n",
    "\n",
    "# Confusion matrix\n",
    "print(\"\\nConfusion Matrix:\")\n",
    "print(confusion_matrix(y_test, y_pred))\n"
   ]
  },
  {
   "cell_type": "code",
   "execution_count": null,
   "metadata": {},
   "outputs": [],
   "source": []
  },
  {
   "cell_type": "code",
   "execution_count": null,
   "metadata": {},
   "outputs": [],
   "source": []
  },
  {
   "cell_type": "code",
   "execution_count": null,
   "metadata": {},
   "outputs": [],
   "source": []
  },
  {
   "cell_type": "code",
   "execution_count": null,
   "metadata": {},
   "outputs": [],
   "source": []
  },
  {
   "cell_type": "code",
   "execution_count": null,
   "metadata": {},
   "outputs": [],
   "source": []
  },
  {
   "cell_type": "code",
   "execution_count": null,
   "metadata": {},
   "outputs": [],
   "source": []
  },
  {
   "cell_type": "markdown",
   "metadata": {
    "id": "j1nDXnzYLLH6"
   },
   "source": [
    "## 4.1 Transformation stage\n",
    "\n",
    "Describe any transformations, such as feature extraction. Identify input and output. Explain why you have chosen this transformation stage."
   ]
  },
  {
   "cell_type": "code",
   "execution_count": null,
   "metadata": {},
   "outputs": [],
   "source": []
  },
  {
   "cell_type": "code",
   "execution_count": null,
   "metadata": {},
   "outputs": [],
   "source": []
  },
  {
   "cell_type": "code",
   "execution_count": null,
   "metadata": {},
   "outputs": [],
   "source": []
  },
  {
   "cell_type": "code",
   "execution_count": null,
   "metadata": {},
   "outputs": [],
   "source": []
  },
  {
   "cell_type": "code",
   "execution_count": null,
   "metadata": {},
   "outputs": [],
   "source": []
  },
  {
   "cell_type": "markdown",
   "metadata": {
    "id": "0F5_kI95LuZ2"
   },
   "source": [
    "## 4.2 Model stage\n",
    "\n",
    "Describe the ML model(s) that you will build. Explain why you have chosen them."
   ]
  },
  {
   "cell_type": "markdown",
   "metadata": {},
   "source": [
    "## 4.3 Ensemble stage\n",
    "\n",
    "Describe any ensemble approach you might have included. Explain why you have chosen them."
   ]
  },
  {
   "cell_type": "markdown",
   "metadata": {
    "id": "HZQPxztuL9AW"
   },
   "source": [
    "# 5 Dataset\n",
    "\n",
    "Describe the datasets that you will create to build and evaluate your models. Your datasets need to be based on our MLEnd Deception Dataset. After describing the datasets, build them here. You can explore and visualise the datasets here as well. \n",
    "\n",
    "If you are building separate training and validatio datasets, do it here. Explain clearly how you are building such datasets, how you are ensuring that they serve their purpose (i.e. they are independent and consist of IID samples) and any limitations you might think of. It is always important to identify any limitations as early as possible. The scope and validity of your conclusions will depend on your ability to understand the limitations of your approach.\n",
    "\n",
    "If you are exploring different datasets, create different subsections for each dataset and give them a name (e.g. 5.1 Dataset A, 5.2 Dataset B, 5.3 Dataset 5.3) .\n",
    "\n"
   ]
  },
  {
   "cell_type": "markdown",
   "metadata": {
    "id": "2qf7GN1aeXJI"
   },
   "source": [
    "# 6 Experiments and results\n",
    "\n",
    "Carry out your experiments here. Analyse and explain your results. Unexplained results are worthless."
   ]
  },
  {
   "cell_type": "markdown",
   "metadata": {
    "id": "fSrJCR_cekPO"
   },
   "source": [
    "# 7 Conclusions\n",
    "\n",
    "Your conclusions, suggestions for improvements, etc should go here."
   ]
  },
  {
   "cell_type": "markdown",
   "metadata": {},
   "source": [
    "# 8 References\n",
    "\n",
    "[1] https://pmc.ncbi.nlm.nih.gov/articles/PMC6989003/#:~:text=Spectral%20contrast%20is%20the%20difference%20in%20amplitude%20(dB)%20between%20peaks,%2C%2040%2C%20and%2080%20dB."
   ]
  },
  {
   "cell_type": "markdown",
   "metadata": {},
   "source": []
  }
 ],
 "metadata": {
  "colab": {
   "provenance": []
  },
  "kernelspec": {
   "display_name": "base",
   "language": "python",
   "name": "python3"
  },
  "language_info": {
   "codemirror_mode": {
    "name": "ipython",
    "version": 3
   },
   "file_extension": ".py",
   "mimetype": "text/x-python",
   "name": "python",
   "nbconvert_exporter": "python",
   "pygments_lexer": "ipython3",
   "version": "3.11.4"
  }
 },
 "nbformat": 4,
 "nbformat_minor": 1
}
